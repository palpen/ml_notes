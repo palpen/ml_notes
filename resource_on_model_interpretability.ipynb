{
 "cells": [
  {
   "cell_type": "markdown",
   "metadata": {},
   "source": [
    "Interpreting random forest:\n",
    "* https://blog.datadive.net/interpreting-random-forests/\n",
    "* https://blog.datadive.net/random-forest-interpretation-with-scikit-learn/\n",
    "* Original paper: https://arxiv.org/pdf/1312.1121.pdf\n",
    "\n",
    "[A Unified Approach to Interpreting Model Predictions](http://papers.nips.cc/paper/7062-a-unified-approach-to-interpreting-model-predictions)\n",
    "* [Non-technical summary](https://towardsdatascience.com/interpretable-machine-learning-with-xgboost-9ec80d148d27)\n",
    "* [Python package](https://github.com/slundberg/shap)\n",
    "\n",
    "Other resources on general ML interpretability\n",
    "* [Beware Default Random Forest Importances](https://explained.ai/rf-importance/index.html)\n",
    "* [Understanding Boosted Trees using TensorFlow](https://www.tensorflow.org/tutorials/estimator/boosted_trees_model_understanding)\n",
    "* https://christophm.github.io/interpretable-ml-book/\n",
    "* https://arxiv.org/pdf/1707.07149.pdf\n",
    "    "
   ]
  },
  {
   "cell_type": "code",
   "execution_count": 3,
   "metadata": {},
   "outputs": [],
   "source": [
    "import numpy as np\n",
    "from treeinterpreter import treeinterpreter as ti\n",
    "from sklearn.tree import DecisionTreeRegressor\n",
    "from sklearn.ensemble import RandomForestRegressor\n",
    "from sklearn.datasets import load_boston\n"
   ]
  },
  {
   "cell_type": "code",
   "execution_count": 25,
   "metadata": {},
   "outputs": [
    {
     "name": "stdout",
     "output_type": "stream",
     "text": [
      ".. _boston_dataset:\n",
      "\n",
      "Boston house prices dataset\n",
      "---------------------------\n",
      "\n",
      "**Data Set Characteristics:**  \n",
      "\n",
      "    :Number of Instances: 506 \n",
      "\n",
      "    :Number of Attributes: 13 numeric/categorical predictive. Median Value (attribute 14) is usually the target.\n",
      "\n",
      "    :Attribute Information (in order):\n",
      "        - CRIM     per capita crime rate by town\n",
      "        - ZN       proportion of residential land zoned for lots over 25,000 sq.ft.\n",
      "        - INDUS    proportion of non-retail business acres per town\n",
      "        - CHAS     Charles River dummy variable (= 1 if tract bounds river; 0 otherwise)\n",
      "        - NOX      nitric oxides concentration (parts per 10 million)\n",
      "        - RM       average number of rooms per dwelling\n",
      "        - AGE      proportion of owner-occupied units built prior to 1940\n",
      "        - DIS      weighted distances to five Boston employment centres\n",
      "        - RAD      index of accessibility to radial highways\n",
      "        - TAX      full-value property-tax rate per $10,000\n",
      "        - PTRATIO  pupil-teacher ratio by town\n",
      "        - B        1000(Bk - 0.63)^2 where Bk is the proportion of blacks by town\n",
      "        - LSTAT    % lower status of the population\n",
      "        - MEDV     Median value of owner-occupied homes in $1000's\n",
      "\n",
      "    :Missing Attribute Values: None\n",
      "\n",
      "    :Creator: Harrison, D. and Rubinfeld, D.L.\n",
      "\n",
      "This is a copy of UCI ML housing dataset.\n",
      "https://archive.ics.uci.edu/ml/machine-learning-databases/housing/\n",
      "\n",
      "\n",
      "This dataset was taken from the StatLib library which is maintained at Carnegie Mellon University.\n",
      "\n",
      "The Boston house-price data of Harrison, D. and Rubinfeld, D.L. 'Hedonic\n",
      "prices and the demand for clean air', J. Environ. Economics & Management,\n",
      "vol.5, 81-102, 1978.   Used in Belsley, Kuh & Welsch, 'Regression diagnostics\n",
      "...', Wiley, 1980.   N.B. Various transformations are used in the table on\n",
      "pages 244-261 of the latter.\n",
      "\n",
      "The Boston house-price data has been used in many machine learning papers that address regression\n",
      "problems.   \n",
      "     \n",
      ".. topic:: References\n",
      "\n",
      "   - Belsley, Kuh & Welsch, 'Regression diagnostics: Identifying Influential Data and Sources of Collinearity', Wiley, 1980. 244-261.\n",
      "   - Quinlan,R. (1993). Combining Instance-Based and Model-Based Learning. In Proceedings on the Tenth International Conference of Machine Learning, 236-243, University of Massachusetts, Amherst. Morgan Kaufmann.\n",
      "\n"
     ]
    }
   ],
   "source": [
    "boston = load_boston()\n",
    "print(boston['DESCR'])"
   ]
  },
  {
   "cell_type": "code",
   "execution_count": 27,
   "metadata": {},
   "outputs": [
    {
     "name": "stderr",
     "output_type": "stream",
     "text": [
      "/Users/palermopenano/miniconda3/envs/ml_notes/lib/python3.7/site-packages/sklearn/ensemble/forest.py:245: FutureWarning: The default value of n_estimators will change from 10 in version 0.20 to 100 in 0.22.\n",
      "  \"10 in version 0.20 to 100 in 0.22.\", FutureWarning)\n"
     ]
    },
    {
     "data": {
      "text/plain": [
       "RandomForestRegressor(bootstrap=True, criterion='mse', max_depth=None,\n",
       "                      max_features='auto', max_leaf_nodes=None,\n",
       "                      min_impurity_decrease=0.0, min_impurity_split=None,\n",
       "                      min_samples_leaf=1, min_samples_split=2,\n",
       "                      min_weight_fraction_leaf=0.0, n_estimators=10,\n",
       "                      n_jobs=None, oob_score=False, random_state=None,\n",
       "                      verbose=0, warm_start=False)"
      ]
     },
     "execution_count": 27,
     "metadata": {},
     "output_type": "execute_result"
    }
   ],
   "source": [
    "rf = RandomForestRegressor()\n",
    "rf.fit(boston.data[:300], boston.target[:300])"
   ]
  },
  {
   "cell_type": "code",
   "execution_count": 28,
   "metadata": {},
   "outputs": [],
   "source": [
    "instances = boston.data[[300, 309]]"
   ]
  },
  {
   "cell_type": "code",
   "execution_count": 30,
   "metadata": {},
   "outputs": [
    {
     "data": {
      "text/plain": [
       "(2, 13)"
      ]
     },
     "execution_count": 30,
     "metadata": {},
     "output_type": "execute_result"
    }
   ],
   "source": [
    "instances.shape"
   ]
  },
  {
   "cell_type": "code",
   "execution_count": 31,
   "metadata": {},
   "outputs": [],
   "source": [
    "prediction, bias, contributions = ti.predict(rf, instances)"
   ]
  },
  {
   "cell_type": "code",
   "execution_count": 32,
   "metadata": {},
   "outputs": [
    {
     "data": {
      "text/plain": [
       "(array([[29.44],\n",
       "        [22.79]]),\n",
       " array([25.78013333, 25.78013333]),\n",
       " array([[-7.31220696e-01,  0.00000000e+00,  1.48230191e-01,\n",
       "          7.33696411e-03,  3.66332172e-01,  4.01529413e+00,\n",
       "          1.28101343e-01, -4.25214290e-01,  1.99791667e-01,\n",
       "         -9.74908397e-01,  3.07508321e-01,  6.43333333e-02,\n",
       "          5.54281933e-01],\n",
       "        [ 3.34850098e-01,  0.00000000e+00, -1.05100356e-02,\n",
       "         -1.67032967e-02,  1.52500000e-02, -5.83741950e+00,\n",
       "         -1.60390743e-01,  4.67545871e-01,  4.95833333e-02,\n",
       "          3.08591486e-03,  1.01330809e-01, -2.49394015e-01,\n",
       "          2.31263823e+00]]))"
      ]
     },
     "execution_count": 32,
     "metadata": {},
     "output_type": "execute_result"
    }
   ],
   "source": [
    "prediction, bias, contributions"
   ]
  },
  {
   "cell_type": "code",
   "execution_count": 40,
   "metadata": {},
   "outputs": [
    {
     "name": "stdout",
     "output_type": "stream",
     "text": [
      "instance: 0\n",
      "Bias 25.78013333333334\n",
      "Feature contribution:\n",
      "RM 4.02\n",
      "TAX -0.97\n",
      "CRIM -0.73\n",
      "LSTAT 0.55\n",
      "DIS -0.43\n",
      "NOX 0.37\n",
      "PTRATIO 0.31\n",
      "RAD 0.2\n",
      "INDUS 0.15\n",
      "AGE 0.13\n",
      "B 0.06\n",
      "CHAS 0.01\n",
      "ZN 0.0\n",
      "-------\n",
      "instance: 1\n",
      "Bias 25.78013333333334\n",
      "Feature contribution:\n",
      "RM -5.84\n",
      "LSTAT 2.31\n",
      "DIS 0.47\n",
      "CRIM 0.33\n",
      "B -0.25\n",
      "AGE -0.16\n",
      "PTRATIO 0.1\n",
      "RAD 0.05\n",
      "CHAS -0.02\n",
      "NOX 0.02\n",
      "INDUS -0.01\n",
      "TAX 0.0\n",
      "ZN 0.0\n",
      "-------\n"
     ]
    }
   ],
   "source": [
    "for i in range(len(instances)):\n",
    "    print(\"instance:\", i)\n",
    "    print(\"Bias\", bias[i])\n",
    "    print(\"Feature contribution:\")\n",
    "    for c, feature in sorted(\n",
    "        zip(contributions[i], boston.feature_names),\n",
    "        key=lambda x: -abs(x[0])  # makes sorted descending\n",
    "    ):\n",
    "        print(feature, round(c,2))\n",
    "    print(\"-------\")"
   ]
  }
 ],
 "metadata": {
  "kernelspec": {
   "display_name": "Python 3",
   "language": "python",
   "name": "python3"
  },
  "language_info": {
   "codemirror_mode": {
    "name": "ipython",
    "version": 3
   },
   "file_extension": ".py",
   "mimetype": "text/x-python",
   "name": "python",
   "nbconvert_exporter": "python",
   "pygments_lexer": "ipython3",
   "version": "3.7.4"
  }
 },
 "nbformat": 4,
 "nbformat_minor": 2
}
