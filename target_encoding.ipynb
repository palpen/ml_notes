{
 "cells": [
  {
   "cell_type": "markdown",
   "metadata": {},
   "source": [
    "# Target encoding with CV\n",
    "* An encoding technique used typically for high cardinality categorical information (e.g. postal code, occupation, etc.).\n",
    "* Converts categorical features to a numerical value using information from the target.\n",
    "* The simplest application is for binary classification problem where we replace eadh class of a given categorical feature with the mean of the target\n",
    "* If, however, the cardinality is high and the train and test distribution of the target differs, this approach could overfit. To overcome this, one can use K-fold cross validation compute the target means.\n",
    "    * For a given fold, K, assign the mean of the target for class A where the mean is calculated from the K-1 sample\n",
    "    * This [article explains this well](https://medium.com/@pouryaayria/k-fold-target-encoding-dfe9a594874b)\n"
   ]
  },
  {
   "cell_type": "code",
   "execution_count": 1,
   "metadata": {},
   "outputs": [
    {
     "name": "stderr",
     "output_type": "stream",
     "text": [
      "Using TensorFlow backend.\n"
     ]
    }
   ],
   "source": [
    "import random\n",
    "\n",
    "import pandas as pd\n",
    "import numpy as np\n",
    "import category_encoders as ce\n",
    "from kaggler.preprocessing import LabelEncoder, TargetEncoder\n",
    "from sklearn.model_selection import StratifiedKFold"
   ]
  },
  {
   "cell_type": "code",
   "execution_count": 2,
   "metadata": {},
   "outputs": [],
   "source": [
    "# Generate fake categorical data\n",
    "N = 1000\n",
    "y = np.random.choice(a=[0,1], size=N, p=[.3, .7])\n",
    "x = np.random.choice(a=['a', 'b', 'c', 'd'], size=N, p=[.3, .05, .45, .2])\n",
    "df = pd.DataFrame({'y': y, 'x': x})"
   ]
  },
  {
   "cell_type": "code",
   "execution_count": 3,
   "metadata": {},
   "outputs": [
    {
     "data": {
      "text/plain": [
       "c    441\n",
       "a    314\n",
       "d    198\n",
       "b     47\n",
       "Name: x, dtype: int64"
      ]
     },
     "metadata": {},
     "output_type": "display_data"
    },
    {
     "data": {
      "text/plain": [
       "count    1000.000000\n",
       "mean        0.699000\n",
       "std         0.458922\n",
       "min         0.000000\n",
       "25%         0.000000\n",
       "50%         1.000000\n",
       "75%         1.000000\n",
       "max         1.000000\n",
       "Name: y, dtype: float64"
      ]
     },
     "metadata": {},
     "output_type": "display_data"
    }
   ],
   "source": [
    "display(df.x.value_counts())\n",
    "display(df.y.describe())"
   ]
  },
  {
   "cell_type": "markdown",
   "metadata": {},
   "source": [
    "# Using Kaggler"
   ]
  },
  {
   "cell_type": "code",
   "execution_count": 4,
   "metadata": {},
   "outputs": [],
   "source": [
    "y = df['y']\n",
    "trn = df.drop('y',axis=1)\n",
    "\n",
    "cv = StratifiedKFold(n_splits=5, shuffle=True, random_state=42)\n",
    "te = TargetEncoder(cv=cv)\n",
    "te.fit(trn,y)\n",
    "trn = te.transform(trn)"
   ]
  },
  {
   "cell_type": "code",
   "execution_count": 5,
   "metadata": {},
   "outputs": [
    {
     "data": {
      "text/plain": [
       "0.732438    441\n",
       "0.665904    314\n",
       "0.707138    198\n",
       "0.573758     47\n",
       "Name: x, dtype: int64"
      ]
     },
     "execution_count": 5,
     "metadata": {},
     "output_type": "execute_result"
    }
   ],
   "source": [
    "trn.x.value_counts()"
   ]
  },
  {
   "cell_type": "markdown",
   "metadata": {},
   "source": [
    "# Using Sklearn\n",
    "* code originally from https://www.kaggle.com/caesarlupum/2020-20-lines-target-encoding"
   ]
  },
  {
   "cell_type": "code",
   "execution_count": 6,
   "metadata": {},
   "outputs": [
    {
     "name": "stdout",
     "output_type": "stream",
     "text": [
      "Train target encoder...\n",
      "-------------\n",
      "800 200\n",
      "-------------\n",
      "800 200\n",
      "-------------\n",
      "800 200\n",
      "-------------\n",
      "800 200\n",
      "-------------\n",
      "800 200\n"
     ]
    }
   ],
   "source": [
    "print(\"Train target encoder...\")\n",
    "cat_feat_to_encode = trn.columns.tolist()\n",
    "smoothing = 0.20\n",
    "oof = pd.DataFrame([])\n",
    "\n",
    "# Target encoding for training set\n",
    "stratified_idx = StratifiedKFold(n_splits=5,\n",
    "                                 random_state=2020,\n",
    "                                 shuffle=True).split(trn, y)\n",
    "for tr_idx, oof_idx in stratified_idx:\n",
    "    print(\"-------------\")\n",
    "    print(len(tr_idx), len(oof_idx))\n",
    "\n",
    "    ce_target_encoder = ce.TargetEncoder(cols=cat_feat_to_encode,\n",
    "                                         smoothing=smoothing)\n",
    "    ce_target_encoder.fit(trn.iloc[tr_idx, :], y.iloc[tr_idx])\n",
    "    oof = oof.append(ce_target_encoder.transform(trn.iloc[oof_idx, :]),\n",
    "                     ignore_index=False)\n",
    "trn = oof.sort_index()\n",
    "\n",
    "# Target encoding for test set\n",
    "# why are we retraining the target encoder here ???\n",
    "# ce_target_encoder = ce.TargetEncoder(cols=cat_feat_to_encode,\n",
    "#                                      smoothing=smoothing)\n",
    "# ce_target_encoder.fit(trn, y)\n",
    "# test = ce_target_encoder.transform(test)"
   ]
  },
  {
   "cell_type": "code",
   "execution_count": null,
   "metadata": {},
   "outputs": [],
   "source": []
  }
 ],
 "metadata": {
  "kernelspec": {
   "display_name": "Python 3",
   "language": "python",
   "name": "python3"
  },
  "language_info": {
   "codemirror_mode": {
    "name": "ipython",
    "version": 3
   },
   "file_extension": ".py",
   "mimetype": "text/x-python",
   "name": "python",
   "nbconvert_exporter": "python",
   "pygments_lexer": "ipython3",
   "version": "3.7.4"
  }
 },
 "nbformat": 4,
 "nbformat_minor": 2
}
