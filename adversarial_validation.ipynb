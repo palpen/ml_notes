{
 "cells": [
  {
   "cell_type": "markdown",
   "metadata": {},
   "source": [
    "# Notes on Adversarial Validation\n",
    "\n",
    "Adversarial validation is a technique for creating a validation set that is representative of the test set. This is done by solving a binary classification problem using the combined training and test datasets. Specifically, data from the training set are labeled positive class while data from the test set are labeled the negative class. Following training, records from the training set that are the most misclassified (i.e. low probability of being a record from the training set when in fact it is a record from the training set) can be used as data for the validation set. These highly misclassified records are most similar to the test set.\n",
    "\n",
    "The feature importance from the trained classifier can also be used to determine which features contribute the most to the difference between the training and test set.\n",
    "\n",
    "## References:\n",
    "\n",
    "* http://fastml.com/adversarial-validation-part-one/\n",
    "* http://fastml.com/adversarial-validation-part-two/\n",
    "* http://manishbarnwal.com/blog/2017/02/15/introduction_to_adversarial_validation/\n",
    "\n",
    "### Notebooks from Kaggle\n",
    "* https://github.com/tunguz/ASHRAE/blob/master/Adversarial.ipynb\n",
    "* https://www.kaggle.com/konradb/adversarial-validation-and-other-scary-terms"
   ]
  },
  {
   "cell_type": "code",
   "execution_count": null,
   "metadata": {},
   "outputs": [],
   "source": []
  }
 ],
 "metadata": {
  "kernelspec": {
   "display_name": "Python 3",
   "language": "python",
   "name": "python3"
  },
  "language_info": {
   "codemirror_mode": {
    "name": "ipython",
    "version": 3
   },
   "file_extension": ".py",
   "mimetype": "text/x-python",
   "name": "python",
   "nbconvert_exporter": "python",
   "pygments_lexer": "ipython3",
   "version": "3.7.5"
  }
 },
 "nbformat": 4,
 "nbformat_minor": 2
}
