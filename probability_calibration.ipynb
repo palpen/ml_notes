{
 "cells": [
  {
   "cell_type": "markdown",
   "metadata": {},
   "source": [
    "\n",
    "## References\n",
    "* [Probability Calibration curves example](https://scikit-learn.org/stable/auto_examples/calibration/plot_calibration_curve.html#sphx-glr-auto-examples-calibration-plot-calibration-curve-py)\n",
    "* [Why Model Calibration Matters and How](https://www.unofficialgoogledatascience.com/2021/04/why-model-calibration-matters-and-how.html)\n",
    "* [Predicting Good Probabilities with Supervised Learning](https://www.cs.cornell.edu/~alexn/papers/calibration.icml05.crc.rev3.pdf)\n",
    "* [Classification: Prediction Bias](https://developers.google.com/machine-learning/crash-course/classification/prediction-bias)\n",
    "* [Calibration by Andreas Muller](https://www.youtube.com/watch?v=w3OPq0V8fr8)\n",
    "    * [Slides](https://amueller.github.io/COMS4995-s20/slides/aml-10-calibration-imbalanced-data/#2)\n"
   ]
  },
  {
   "cell_type": "markdown",
   "metadata": {},
   "source": [
    "## To Add\n",
    "* Explanation (Just use Muller's lecture to quickly explain)\n",
    "* XGBoost, LightGBM, Random Forest"
   ]
  },
  {
   "cell_type": "markdown",
   "metadata": {},
   "source": [
    "## What is probability calibration? What does it mean for a forecast to be well calibrated?\n",
    "\n",
    "The goal of supervised machine learning models is to predict outcomes of new data. One type of prediction that such models can make are values that may be interpreted as the  probabilities. Probability calibration is concerned with calibrated if out of all the times the model said that there was a 40 percent chance of rain, rain did actually fall 40 percent of the time? [source: Google Blog]\n",
    "\n",
    "Out of all the records where P(Y|X) = 0.6, do we actually see that there 60% of these records are positive classes. Similarly, for all records where P(Y|X) = 0.2, are 20% of the records in this subset actually positive classes?\n",
    "\n",
    "Examples:\n",
    "\n",
    "* Spam vs not spam: \n",
    "* Rain\n",
    "* \n",
    "\n",
    "## Why might we care about probability predictions over classification\n",
    "* Using the prediction as a score to rank which customers to target in marketing campaign, then no calibration is required. However, if the predictions will be used to compute say expected revenue, then the model's predicton should be calibrated\n",
    "* Model modularity ??? (Google Blog)\n",
    "* Which one would you rather hear: the model predicted you don't have cancer or the model predicted you're 40% likely to have cancer? [Mueller]"
   ]
  },
  {
   "cell_type": "markdown",
   "metadata": {},
   "source": [
    "## Why do classification models become miscalibrated?\n",
    "\n",
    "## Which algorithms require calibration?\n",
    "\n",
    "## How do you calibrate model predictions?\n",
    "* 1-d regression model that maps the predicted probabilities to the 45 degree line in predicted probability / fraction of true positive plots (Muller, 23:00)\n",
    "\n",
    "### How are LightGBM and Random Forest calibrated?\n",
    "### Why do RF models have an S shaped???\n",
    "- Muller video at 16:00 mark\n",
    "\n",
    "## Notes\n",
    "* It is possible to have a well-calibrated but useless model\n",
    "    * If 40% of the customers churned in the data, we can use the model P(Churn) = 0.4 for each customer\n",
    "    * This model is perfectly calibrated: when it predicts 0.4 and 40% of our customers actually churned\n",
    "    * But this model cannot explain the prediction: P(Churn|X) = P(Churn). It cannot rank the customers in our dataset by their probability of churning.\n",
    "    * Thus it is possible to have well-calibrated but useless models\n",
    "* It is possible to have poorly calibrated but fuseful model\n",
    "    * RF is a poorly calibrated but useful model: it can rank customers by their probability of churning but will underestimate probability of churn for predictions <50% and overestimate it for predictions >50% (See Muller lecture)\n",
    "    * Why does it do this ???"
   ]
  },
  {
   "cell_type": "code",
   "execution_count": 19,
   "metadata": {},
   "outputs": [],
   "source": [
    "import matplotlib.pyplot as plt\n",
    "\n",
    "from sklearn import datasets\n",
    "from sklearn.calibration import CalibratedClassifierCV, calibration_curve # ???\n",
    "from sklearn.model_selection import train_test_split\n",
    "from sklearn.linear_model import LogisticRegression\n",
    "from sklearn.metrics import (brier_score_loss, # ???\n",
    "                             precision_score, \n",
    "                             recall_score,\n",
    "                             f1_score)"
   ]
  },
  {
   "cell_type": "code",
   "execution_count": 20,
   "metadata": {},
   "outputs": [
    {
     "data": {
      "text/plain": [
       "(array([[ 1.02259257,  0.65552289,  1.32683445, ...,  0.98226539,\n",
       "         -0.90752137,  1.96446595],\n",
       "        [ 0.97335244,  1.03796284, -0.17722698, ..., -2.11697771,\n",
       "         -1.19228631, -1.18217862],\n",
       "        [-1.38826145, -0.26109172,  0.74907354, ...,  2.42458899,\n",
       "          0.73313171,  0.66861941],\n",
       "        ...,\n",
       "        [ 0.7384264 ,  1.3236177 ,  0.58745182, ...,  0.50154538,\n",
       "         -1.32991078, -0.14465644],\n",
       "        [ 1.34634369, -0.30804254,  0.52594723, ...,  0.39934833,\n",
       "         -0.26570879,  0.22887331],\n",
       "        [-0.18860303,  0.98776555,  0.17847475, ..., -0.43722285,\n",
       "         -0.7122176 , -1.81358672]]),\n",
       " array([0, 1, 0, ..., 1, 1, 0]))"
      ]
     },
     "execution_count": 20,
     "metadata": {},
     "output_type": "execute_result"
    }
   ],
   "source": [
    "# Create dataset\n",
    "\n",
    "X, y = datasets.make_classification(n_samples=100_000, n_features=20,\n",
    "                                    n_informative=2, n_redundant=10,  # ???\n",
    "                                    random_state=42)\n",
    "\n",
    "X_train, X_test, y_train, y_test = train_test_split(X, y, test_size=0.99,\n",
    "                                                    random_state=42)\n",
    "X, y"
   ]
  },
  {
   "cell_type": "code",
   "execution_count": 21,
   "metadata": {},
   "outputs": [
    {
     "data": {
      "text/plain": [
       "LogisticRegression(C=1.0, class_weight=None, dual=False, fit_intercept=True,\n",
       "                   intercept_scaling=1, l1_ratio=None, max_iter=100,\n",
       "                   multi_class='auto', n_jobs=None, penalty='l2',\n",
       "                   random_state=None, solver='lbfgs', tol=0.0001, verbose=0,\n",
       "                   warm_start=False)"
      ]
     },
     "execution_count": 21,
     "metadata": {},
     "output_type": "execute_result"
    }
   ],
   "source": [
    "clf = LogisticRegression(C=1.)\n",
    "clf.fit(X_train, y_train)\n"
   ]
  },
  {
   "cell_type": "code",
   "execution_count": 22,
   "metadata": {},
   "outputs": [],
   "source": [
    "prob_pos = clf.predict_proba(X_test)[:, 1]"
   ]
  },
  {
   "cell_type": "code",
   "execution_count": 23,
   "metadata": {},
   "outputs": [],
   "source": [
    "clf_score = brier_score_loss(y_test, prob_pos, pos_label=y.max())  # metric for evaluating calibration performance\n",
    "fraction_of_positives, mean_predicted_value = \\\n",
    "            calibration_curve(y_test, prob_pos, n_bins=10)"
   ]
  },
  {
   "cell_type": "code",
   "execution_count": null,
   "metadata": {},
   "outputs": [],
   "source": []
  },
  {
   "cell_type": "code",
   "execution_count": null,
   "metadata": {},
   "outputs": [],
   "source": []
  },
  {
   "cell_type": "code",
   "execution_count": null,
   "metadata": {},
   "outputs": [],
   "source": []
  },
  {
   "cell_type": "code",
   "execution_count": 26,
   "metadata": {},
   "outputs": [
    {
     "data": {
      "text/plain": [
       "<matplotlib.legend.Legend at 0x7f8bd275dcd0>"
      ]
     },
     "execution_count": 26,
     "metadata": {},
     "output_type": "execute_result"
    },
    {
     "data": {
      "image/png": "[encoded data removed]",
      "text/plain": [
       "<Figure size 720x720 with 2 Axes>"
      ]
     },
     "metadata": {
      "needs_background": "light"
     },
     "output_type": "display_data"
    }
   ],
   "source": [
    "name = 'Logistic'\n",
    "\n",
    "\n",
    "fig_index=1\n",
    "fig = plt.figure(fig_index, figsize=(10, 10))\n",
    "ax1 = plt.subplot2grid((3, 1), (0, 0), rowspan=2)\n",
    "ax2 = plt.subplot2grid((3, 1), (2, 0))\n",
    "\n",
    "# Plot perfectly calibrated curve (45 degree line)\n",
    "ax1.plot([0, 1], [0, 1], \"k:\", label=\"Perfectly calibrated\")\n",
    "\n",
    "ax1.plot(mean_predicted_value, fraction_of_positives, \"s-\",\n",
    "         label=\"%s (%1.3f)\" % (name, clf_score))\n",
    "\n",
    "ax2.hist(prob_pos, range=(0, 1), bins=10, label=name,\n",
    "         histtype=\"step\", lw=2)\n",
    "\n",
    "# Figure formatting\n",
    "ax1.set_ylabel(\"Fraction of positives\")\n",
    "ax1.set_ylim([-0.05, 1.05])\n",
    "ax1.legend(loc=\"lower right\")\n",
    "ax1.set_title('Calibration plots  (reliability curve)')\n",
    "\n",
    "ax2.set_xlabel(\"Mean predicted value\")\n",
    "ax2.set_ylabel(\"Count\")\n",
    "ax2.legend(loc=\"upper center\", ncol=2)"
   ]
  },
  {
   "cell_type": "code",
   "execution_count": null,
   "metadata": {},
   "outputs": [],
   "source": []
  },
  {
   "cell_type": "code",
   "execution_count": null,
   "metadata": {},
   "outputs": [],
   "source": []
  },
  {
   "cell_type": "code",
   "execution_count": null,
   "metadata": {},
   "outputs": [],
   "source": []
  },
  {
   "cell_type": "code",
   "execution_count": null,
   "metadata": {},
   "outputs": [],
   "source": []
  },
  {
   "cell_type": "code",
   "execution_count": null,
   "metadata": {},
   "outputs": [],
   "source": []
  },
  {
   "cell_type": "code",
   "execution_count": null,
   "metadata": {},
   "outputs": [],
   "source": []
  },
  {
   "cell_type": "code",
   "execution_count": null,
   "metadata": {},
   "outputs": [],
   "source": []
  },
  {
   "cell_type": "code",
   "execution_count": null,
   "metadata": {},
   "outputs": [],
   "source": []
  },
  {
   "cell_type": "code",
   "execution_count": null,
   "metadata": {},
   "outputs": [],
   "source": []
  },
  {
   "cell_type": "code",
   "execution_count": null,
   "metadata": {},
   "outputs": [],
   "source": []
  },
  {
   "cell_type": "code",
   "execution_count": null,
   "metadata": {},
   "outputs": [],
   "source": []
  },
  {
   "cell_type": "code",
   "execution_count": null,
   "metadata": {},
   "outputs": [],
   "source": []
  },
  {
   "cell_type": "code",
   "execution_count": null,
   "metadata": {},
   "outputs": [],
   "source": []
  },
  {
   "cell_type": "code",
   "execution_count": null,
   "metadata": {},
   "outputs": [],
   "source": []
  },
  {
   "cell_type": "code",
   "execution_count": null,
   "metadata": {},
   "outputs": [],
   "source": []
  },
  {
   "cell_type": "code",
   "execution_count": null,
   "metadata": {},
   "outputs": [],
   "source": []
  },
  {
   "cell_type": "code",
   "execution_count": null,
   "metadata": {},
   "outputs": [],
   "source": []
  },
  {
   "cell_type": "code",
   "execution_count": null,
   "metadata": {},
   "outputs": [],
   "source": []
  },
  {
   "cell_type": "code",
   "execution_count": null,
   "metadata": {},
   "outputs": [],
   "source": []
  },
  {
   "cell_type": "code",
   "execution_count": null,
   "metadata": {},
   "outputs": [],
   "source": []
  },
  {
   "cell_type": "code",
   "execution_count": null,
   "metadata": {},
   "outputs": [],
   "source": []
  },
  {
   "cell_type": "code",
   "execution_count": null,
   "metadata": {},
   "outputs": [],
   "source": []
  }
 ],
 "metadata": {
  "kernelspec": {
   "display_name": "Python 3",
   "language": "python",
   "name": "python3"
  },
  "language_info": {
   "codemirror_mode": {
    "name": "ipython",
    "version": 3
   },
   "file_extension": ".py",
   "mimetype": "text/x-python",
   "name": "python",
   "nbconvert_exporter": "python",
   "pygments_lexer": "ipython3",
   "version": "3.7.4"
  }
 },
 "nbformat": 4,
 "nbformat_minor": 2
}
