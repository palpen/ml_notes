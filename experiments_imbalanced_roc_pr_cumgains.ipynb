{
 "cells": [
  {
   "cell_type": "markdown",
   "metadata": {},
   "source": [
    "Goal: Understand why ROC-AUC is a poor metric for evaluating a model's performance when classes are highly imbalanced\n",
    "\n",
    "References:\n",
    "1. [The relationship between precision-recall and roc curves](https://www.biostat.wisc.edu/~page/rocpr.pdf)\n",
    "2. [Introduction to ROC Analysis by Tom Fawcett](https://www.sciencedirect.com/science/article/abs/pii/S016786550500303X)"
   ]
  },
  {
   "cell_type": "code",
   "execution_count": 39,
   "metadata": {},
   "outputs": [],
   "source": [
    "import pandas as pd\n",
    "import numpy as np\n",
    "import matplotlib.pyplot as plt\n",
    "import scikitplot as skplt\n",
    "\n",
    "from sklearn import datasets\n",
    "from sklearn.model_selection import train_test_split\n",
    "from sklearn.linear_model import LogisticRegression\n",
    "from sklearn.dummy import DummyClassifier\n",
    "from sklearn.metrics import accuracy_score, f1_score, roc_auc_score"
   ]
  },
  {
   "cell_type": "code",
   "execution_count": 40,
   "metadata": {},
   "outputs": [],
   "source": [
    "def gen_data(pos_weight):\n",
    "    X, y = datasets.make_classification(\n",
    "    n_samples=10000, \n",
    "    n_classes=2, \n",
    "    weights=[1 - pos_weight, pos_weight], \n",
    "    random_state=42\n",
    "    )\n",
    "    return X, y"
   ]
  },
  {
   "cell_type": "code",
   "execution_count": 2,
   "metadata": {},
   "outputs": [],
   "source": [
    "def gen_prediction_probabilities(model, testX):\n",
    "    '''Generate prediction probabilities for each class\n",
    "    \n",
    "    Probabilities of positive class is in the 2nd column\n",
    "    '''\n",
    "    pred_proba_1d = model.predict_proba(testX)[:, 1]\n",
    "    pred_proba_1d = pred_proba_1d.reshape((pred_proba_1d.shape[0],1))\n",
    "    pred_proba = np.append(1 - pred_proba_1d, pred_proba_1d, axis=1)\n",
    "    return pred_proba"
   ]
  },
  {
   "cell_type": "code",
   "execution_count": 3,
   "metadata": {},
   "outputs": [],
   "source": [
    "def gen_predictions(pred_proba, thresh=0.5):\n",
    "    return (pred_proba[:, 1] > thresh).astype(int)"
   ]
  },
  {
   "cell_type": "code",
   "execution_count": 34,
   "metadata": {},
   "outputs": [],
   "source": [
    "def gen_confusion_matrix(testy, pred_proba):\n",
    "    return pd.crosstab(\n",
    "        gen_predictions(pred_proba), testy, \n",
    "        rownames=['Predicted'], \n",
    "        colnames=['Actual'], \n",
    "        margins=True)"
   ]
  },
  {
   "cell_type": "code",
   "execution_count": 5,
   "metadata": {},
   "outputs": [],
   "source": [
    "def compute_scores(testy, predictions, pred_proba):\n",
    "    return (\n",
    "        f\" Acc: {accuracy_score(testy, predictions):.3f} | \"\n",
    "        f\"ROC-AUC: {roc_auc_score(testy, pred_proba[:,1]):.3f} | \"\n",
    "        f\"F1: {f1_score(testy, predictions):.3f}\"\n",
    "    )"
   ]
  },
  {
   "cell_type": "code",
   "execution_count": 6,
   "metadata": {
    "scrolled": true
   },
   "outputs": [],
   "source": [
    "def plots(testy, pred_proba):\n",
    "    '''Plot ROC, Precision-Recall, and Cumulative Gains curves'''\n",
    "    fig, ax = plt.subplots(1,3, figsize=(15,5))\n",
    "    ax_roc = skplt.metrics.plot_roc(\n",
    "        testy, pred_proba, \n",
    "        plot_micro=False, plot_macro=False,\n",
    "        classes_to_plot=[1],\n",
    "        ax=ax[0]\n",
    "    );\n",
    "    ax_pr = skplt.metrics.plot_precision_recall(\n",
    "        testy, pred_proba,\n",
    "        plot_micro=False,\n",
    "        classes_to_plot=[1],\n",
    "        ax=ax[1]\n",
    "    );\n",
    "    ax_cumgain = skplt.metrics.plot_cumulative_gain(\n",
    "        testy, pred_proba,\n",
    "        ax=ax[2]\n",
    "    );\n",
    "    "
   ]
  },
  {
   "cell_type": "code",
   "execution_count": 49,
   "metadata": {},
   "outputs": [],
   "source": [
    "X, y = gen_data(pos_weight=0.01)\n",
    "trainX, testX, trainy, testy = train_test_split(\n",
    "    X, y, test_size=0.2, random_state=2)"
   ]
  },
  {
   "cell_type": "code",
   "execution_count": 50,
   "metadata": {},
   "outputs": [
    {
     "name": "stderr",
     "output_type": "stream",
     "text": [
      "/Users/palermopenano/miniconda3/envs/cpa/lib/python3.6/site-packages/sklearn/linear_model/logistic.py:432: FutureWarning: Default solver will be changed to 'lbfgs' in 0.22. Specify a solver to silence this warning.\n",
      "  FutureWarning)\n"
     ]
    }
   ],
   "source": [
    "# Models\n",
    "m1 = LogisticRegression(random_state=42)\n",
    "m1.fit(trainX, trainy);\n",
    "\n",
    "m2 = DummyClassifier(strategy='most_frequent', random_state=42)\n",
    "m2.fit(trainX, trainy);"
   ]
  },
  {
   "cell_type": "code",
   "execution_count": 51,
   "metadata": {},
   "outputs": [],
   "source": [
    "def evaluate_model(m):\n",
    "    print(\">>> Model:\", m.__class__)\n",
    "    \n",
    "    print(f\">>> Class ratio (neg to pos) {(testy.shape[0] - testy.sum()) / testy.sum():.1f}:1\")\n",
    "    \n",
    "    print(\">>> Confusion Matrix\")\n",
    "    pred_proba = gen_prediction_probabilities(m, testX)\n",
    "    display(gen_confusion_matrix(testy, pred_proba))   \n",
    "\n",
    "    print(\">>> Scores\")\n",
    "    predictions = gen_predictions(pred_proba)\n",
    "    print(compute_scores(testy, predictions, pred_proba))\n",
    "    \n",
    "    print(\">>> Plots\")\n",
    "    plots(testy, pred_proba)\n",
    "    plt.show()"
   ]
  },
  {
   "cell_type": "code",
   "execution_count": 52,
   "metadata": {
    "scrolled": false
   },
   "outputs": [
    {
     "name": "stdout",
     "output_type": "stream",
     "text": [
      ">>> Model: <class 'sklearn.linear_model.logistic.LogisticRegression'>\n",
      ">>> Class ratio (neg to pos) 75.9:1\n",
      ">>> Confusion Matrix\n"
     ]
    },
    {
     "data": {
      "text/html": [
       "<div>\n",
       "<style scoped>\n",
       "    .dataframe tbody tr th:only-of-type {\n",
       "        vertical-align: middle;\n",
       "    }\n",
       "\n",
       "    .dataframe tbody tr th {\n",
       "        vertical-align: top;\n",
       "    }\n",
       "\n",
       "    .dataframe thead th {\n",
       "        text-align: right;\n",
       "    }\n",
       "</style>\n",
       "<table border=\"1\" class=\"dataframe\">\n",
       "  <thead>\n",
       "    <tr style=\"text-align: right;\">\n",
       "      <th>Actual</th>\n",
       "      <th>0</th>\n",
       "      <th>1</th>\n",
       "      <th>All</th>\n",
       "    </tr>\n",
       "    <tr>\n",
       "      <th>Predicted</th>\n",
       "      <th></th>\n",
       "      <th></th>\n",
       "      <th></th>\n",
       "    </tr>\n",
       "  </thead>\n",
       "  <tbody>\n",
       "    <tr>\n",
       "      <td>0</td>\n",
       "      <td>1973</td>\n",
       "      <td>26</td>\n",
       "      <td>1999</td>\n",
       "    </tr>\n",
       "    <tr>\n",
       "      <td>1</td>\n",
       "      <td>1</td>\n",
       "      <td>0</td>\n",
       "      <td>1</td>\n",
       "    </tr>\n",
       "    <tr>\n",
       "      <td>All</td>\n",
       "      <td>1974</td>\n",
       "      <td>26</td>\n",
       "      <td>2000</td>\n",
       "    </tr>\n",
       "  </tbody>\n",
       "</table>\n",
       "</div>"
      ],
      "text/plain": [
       "Actual        0   1   All\n",
       "Predicted                \n",
       "0          1973  26  1999\n",
       "1             1   0     1\n",
       "All        1974  26  2000"
      ]
     },
     "metadata": {},
     "output_type": "display_data"
    },
    {
     "name": "stdout",
     "output_type": "stream",
     "text": [
      ">>> Scores\n",
      " Acc: 0.987 | ROC-AUC: 0.775 | F1: 0.000\n",
      ">>> Plots\n"
     ]
    },
    {
     "data": {
      "image/png": "[encoded data removed]",
      "text/plain": [
       "<Figure size 1080x360 with 3 Axes>"
      ]
     },
     "metadata": {
      "needs_background": "light"
     },
     "output_type": "display_data"
    }
   ],
   "source": [
    "evaluate_model(m1)"
   ]
  },
  {
   "cell_type": "code",
   "execution_count": null,
   "metadata": {},
   "outputs": [],
   "source": []
  },
  {
   "cell_type": "markdown",
   "metadata": {},
   "source": []
  },
  {
   "cell_type": "markdown",
   "metadata": {},
   "source": [
    "### Important points:\n",
    "* ROC represents the trade-off between hit-rate (TPR) and false-alarm rate (FPR). \n",
    "    * If we want a model with liberal classification rules to capture as many positive classes as possible, we must live with a high rate of false positives.\n",
    "    * A model along the 45-degree line is as good as a model that chooses a class at random (it gets a positive class right as often as it gets it wrong (e.g. false positive))\n",
    "* Use ROC-AUC if both positive and negative classes are important (e.g. interested in our model classifying both cats AND dogs as opposed to classifying cats (the positive class) and not-cats). \n",
    "* Use precision-recall curve if we only care about positive classes. In such case, we want to know how often a case is actually a fraud given that our model classified it as a fraud (precision) AND among all frauds in the test set, how many was our model able to capture with a correct classification\n",
    "    * Using PR curve becomes important in imbalance class problems because in such problems, we typically only care about the minority class (e.g fraud cases, diagnosed with cancer cases, etc.)\n",
    "    * ROC curves fails when the class distribution is imbalanced because the ROC curve does not change (for a given model) even if the class distribution of the test set becomes drastically imbalanced (see figure 5 in Intro to ROC by Fawcet)\n",
    "    * Why does the ROC curve still bow to the upper left corner with class imbalance ???"
   ]
  },
  {
   "cell_type": "code",
   "execution_count": null,
   "metadata": {},
   "outputs": [],
   "source": []
  }
 ],
 "metadata": {
  "kernelspec": {
   "display_name": "Python 3",
   "language": "python",
   "name": "python3"
  },
  "language_info": {
   "codemirror_mode": {
    "name": "ipython",
    "version": 3
   },
   "file_extension": ".py",
   "mimetype": "text/x-python",
   "name": "python",
   "nbconvert_exporter": "python",
   "pygments_lexer": "ipython3",
   "version": "3.6.9"
  }
 },
 "nbformat": 4,
 "nbformat_minor": 2
}
