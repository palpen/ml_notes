{
 "cells": [
  {
   "cell_type": "markdown",
   "metadata": {},
   "source": [
    "# Review of Principal Component Analysis\n",
    "\n",
    "PCA is a popular dimensionality reduction technique. It achieves this by\n",
    "    1. Identifying the direction to project the points on to such that the plane on which the points are project maximizes the variance of the points along the plane\n",
    "    2. Repeating step 1. for each subsequent plane (called principal component) such that each subsequent plane is orthogonal to all previous planes.\n",
    "\n",
    "Each principal component become the linear combination of the original dimensions. An extreme case is where two dimensions x1 and x2 that are identical (i.e. x1 = x2). PCA will collapse x1 and x2 into a single dimension, x, that exist in a lower-dimensional space (namely, from 2-d to 1d)\n",
    "\n",
    "Another definition from [here](http://www.ams.med.uni-goettingen.de/download/Steffen-Unkel/chap6.pdf)\n",
    "\n",
    "    The basic aim of PCA is to describe variation in a set of\n",
    "    correlated variables x1, x2, . . . , xp in terms of a new set of\n",
    "    uncorrelated variables y1, y2, . . . , yp\n",
    "\n",
    "## To Add\n",
    "* Intuitive interpretation of the loadings of each principal component\n",
    "* biplot\n",
    "\n",
    "## Things to note:\n",
    "\n",
    "* It is good practice to mean normalize (so data is zero mean) and, if features are of different scale, [scale the features before applying PCA](https://stats.stackexchange.com/questions/69157/why-do-we-need-to-normalize-data-before-principal-component-analysis-pca). In the iris dataset, all the measurement are in centimeters, only mean normalization is necessary.\n",
    "* PCA performs poorly when the data contains outliers\n",
    "    * https://stats.stackexchange.com/questions/378751/why-is-pca-sensitive-to-outliers\n",
    "* It is not recommended to use PCA to address overfitting. PCA does not use the label to reduce the dimension. Even if the principal components captures 90% of the variation, PCA could be throwing out important information that can help predict the label. Use regularization instead.\n",
    "    * It is okay, however to use PCA to reduce the number of features to speed up your learning algorithm"
   ]
  },
  {
   "cell_type": "code",
   "execution_count": 1,
   "metadata": {},
   "outputs": [],
   "source": [
    "import pandas as pd\n",
    "import numpy as np\n",
    "from sklearn import decomposition\n",
    "from sklearn import datasets\n",
    "from sklearn.preprocessing import StandardScaler\n",
    "import matplotlib.pyplot as plt\n",
    "import seaborn as sns"
   ]
  },
  {
   "cell_type": "code",
   "execution_count": 21,
   "metadata": {},
   "outputs": [],
   "source": [
    "# Setting\n",
    "NUM_PC = 1\n",
    "SEED = 42"
   ]
  },
  {
   "cell_type": "markdown",
   "metadata": {},
   "source": [
    "# Load the iris dataset"
   ]
  },
  {
   "cell_type": "code",
   "execution_count": 22,
   "metadata": {},
   "outputs": [
    {
     "data": {
      "text/html": [
       "<div>\n",
       "<style scoped>\n",
       "    .dataframe tbody tr th:only-of-type {\n",
       "        vertical-align: middle;\n",
       "    }\n",
       "\n",
       "    .dataframe tbody tr th {\n",
       "        vertical-align: top;\n",
       "    }\n",
       "\n",
       "    .dataframe thead th {\n",
       "        text-align: right;\n",
       "    }\n",
       "</style>\n",
       "<table border=\"1\" class=\"dataframe\">\n",
       "  <thead>\n",
       "    <tr style=\"text-align: right;\">\n",
       "      <th></th>\n",
       "      <th>sepal length (in)</th>\n",
       "      <th>sepal length (cm)</th>\n",
       "    </tr>\n",
       "  </thead>\n",
       "  <tbody>\n",
       "    <tr>\n",
       "      <th>0</th>\n",
       "      <td>2.007875</td>\n",
       "      <td>5.1</td>\n",
       "    </tr>\n",
       "    <tr>\n",
       "      <th>1</th>\n",
       "      <td>1.929135</td>\n",
       "      <td>4.9</td>\n",
       "    </tr>\n",
       "    <tr>\n",
       "      <th>2</th>\n",
       "      <td>1.850395</td>\n",
       "      <td>4.7</td>\n",
       "    </tr>\n",
       "    <tr>\n",
       "      <th>3</th>\n",
       "      <td>1.811025</td>\n",
       "      <td>4.6</td>\n",
       "    </tr>\n",
       "    <tr>\n",
       "      <th>4</th>\n",
       "      <td>1.968505</td>\n",
       "      <td>5.0</td>\n",
       "    </tr>\n",
       "  </tbody>\n",
       "</table>\n",
       "</div>"
      ],
      "text/plain": [
       "   sepal length (in)  sepal length (cm)\n",
       "0           2.007875                5.1\n",
       "1           1.929135                4.9\n",
       "2           1.850395                4.7\n",
       "3           1.811025                4.6\n",
       "4           1.968505                5.0"
      ]
     },
     "execution_count": 22,
     "metadata": {},
     "output_type": "execute_result"
    }
   ],
   "source": [
    "iris = datasets.load_iris()\n",
    " \n",
    "# Load into a pandas dataframe since most workflow \n",
    "# begins with a pandas dataframe\n",
    "df = pd.DataFrame(data=iris.data, columns=iris.feature_names)\n",
    "\n",
    "\n",
    "df['sepal length (in)'] = df['sepal length (cm)'] * 0.393701\n",
    "df = df.loc[:, ['sepal length (in)', 'sepal length (cm)']]\n",
    "\n",
    "\n",
    "df.head()"
   ]
  },
  {
   "cell_type": "markdown",
   "metadata": {},
   "source": [
    "# Initialize and fit the PCA class from Sklearn\n",
    "\n",
    "Choose 2 principal components (PC) for easier visualization. The number of PCs can be reduced if only a small subset of the original number of PC explains most (>90%) of the variation."
   ]
  },
  {
   "cell_type": "code",
   "execution_count": 23,
   "metadata": {},
   "outputs": [
    {
     "data": {
      "text/plain": [
       "PCA(copy=True, iterated_power='auto', n_components=1, random_state=42,\n",
       "    svd_solver='auto', tol=0.0, whiten=False)"
      ]
     },
     "execution_count": 23,
     "metadata": {},
     "output_type": "execute_result"
    }
   ],
   "source": [
    "pca = decomposition.PCA(n_components=NUM_PC, random_state=42)\n",
    "pca.fit(df)\n",
    "pca"
   ]
  },
  {
   "cell_type": "code",
   "execution_count": 42,
   "metadata": {},
   "outputs": [
    {
     "name": "stdout",
     "output_type": "stream",
     "text": [
      "[[0.36633249]\n",
      " [0.93048402]] (2, 1)\n",
      "[[2.0078751]\n",
      " [5.1      ]] (2, 1)\n"
     ]
    }
   ],
   "source": [
    "u = np.transpose(pca.components_)\n",
    "s = df.iloc[0].values.reshape((2, -1))\n",
    "print(u, u.shape)\n",
    "print(s, s.shape)\n",
    "# np.matmul(u, s)"
   ]
  },
  {
   "cell_type": "code",
   "execution_count": 26,
   "metadata": {},
   "outputs": [
    {
     "data": {
      "text/plain": [
       "array([[-0.79886738],\n",
       "       [-1.01380928],\n",
       "       [-1.22875118],\n",
       "       [-1.33622213],\n",
       "       [-0.90633833],\n",
       "       [-0.47645454],\n",
       "       [-1.33622213],\n",
       "       [-0.90633833],\n",
       "       [-1.55116402],\n",
       "       [-1.01380928],\n",
       "       [-0.47645454],\n",
       "       [-1.12128023],\n",
       "       [-1.12128023],\n",
       "       [-1.65863497],\n",
       "       [-0.04657074],\n",
       "       [-0.15404169],\n",
       "       [-0.47645454],\n",
       "       [-0.79886738],\n",
       "       [-0.15404169],\n",
       "       [-0.79886738],\n",
       "       [-0.47645454],\n",
       "       [-0.79886738],\n",
       "       [-1.33622213],\n",
       "       [-0.79886738],\n",
       "       [-1.12128023],\n",
       "       [-0.90633833],\n",
       "       [-0.90633833],\n",
       "       [-0.69139644],\n",
       "       [-0.69139644],\n",
       "       [-1.22875118],\n",
       "       [-1.12128023],\n",
       "       [-0.47645454],\n",
       "       [-0.69139644],\n",
       "       [-0.36898359],\n",
       "       [-1.01380928],\n",
       "       [-0.90633833],\n",
       "       [-0.36898359],\n",
       "       [-1.01380928],\n",
       "       [-1.55116402],\n",
       "       [-0.79886738],\n",
       "       [-0.90633833],\n",
       "       [-1.44369308],\n",
       "       [-1.55116402],\n",
       "       [-0.90633833],\n",
       "       [-0.79886738],\n",
       "       [-1.12128023],\n",
       "       [-0.79886738],\n",
       "       [-1.33622213],\n",
       "       [-0.58392549],\n",
       "       [-0.90633833],\n",
       "       [ 1.24308064],\n",
       "       [ 0.59825495],\n",
       "       [ 1.13560969],\n",
       "       [-0.36898359],\n",
       "       [ 0.7057259 ],\n",
       "       [-0.15404169],\n",
       "       [ 0.490784  ],\n",
       "       [-1.01380928],\n",
       "       [ 0.81319684],\n",
       "       [-0.69139644],\n",
       "       [-0.90633833],\n",
       "       [ 0.0609002 ],\n",
       "       [ 0.16837115],\n",
       "       [ 0.2758421 ],\n",
       "       [-0.26151264],\n",
       "       [ 0.92066779],\n",
       "       [-0.26151264],\n",
       "       [-0.04657074],\n",
       "       [ 0.38331305],\n",
       "       [-0.26151264],\n",
       "       [ 0.0609002 ],\n",
       "       [ 0.2758421 ],\n",
       "       [ 0.490784  ],\n",
       "       [ 0.2758421 ],\n",
       "       [ 0.59825495],\n",
       "       [ 0.81319684],\n",
       "       [ 1.02813874],\n",
       "       [ 0.92066779],\n",
       "       [ 0.16837115],\n",
       "       [-0.15404169],\n",
       "       [-0.36898359],\n",
       "       [-0.36898359],\n",
       "       [-0.04657074],\n",
       "       [ 0.16837115],\n",
       "       [-0.47645454],\n",
       "       [ 0.16837115],\n",
       "       [ 0.92066779],\n",
       "       [ 0.490784  ],\n",
       "       [-0.26151264],\n",
       "       [-0.36898359],\n",
       "       [-0.36898359],\n",
       "       [ 0.2758421 ],\n",
       "       [-0.04657074],\n",
       "       [-0.90633833],\n",
       "       [-0.26151264],\n",
       "       [-0.15404169],\n",
       "       [-0.15404169],\n",
       "       [ 0.38331305],\n",
       "       [-0.79886738],\n",
       "       [-0.15404169],\n",
       "       [ 0.490784  ],\n",
       "       [-0.04657074],\n",
       "       [ 1.35055159],\n",
       "       [ 0.490784  ],\n",
       "       [ 0.7057259 ],\n",
       "       [ 1.88790633],\n",
       "       [-1.01380928],\n",
       "       [ 1.56549348],\n",
       "       [ 0.92066779],\n",
       "       [ 1.45802253],\n",
       "       [ 0.7057259 ],\n",
       "       [ 0.59825495],\n",
       "       [ 1.02813874],\n",
       "       [-0.15404169],\n",
       "       [-0.04657074],\n",
       "       [ 0.59825495],\n",
       "       [ 0.7057259 ],\n",
       "       [ 1.99537728],\n",
       "       [ 1.99537728],\n",
       "       [ 0.16837115],\n",
       "       [ 1.13560969],\n",
       "       [-0.26151264],\n",
       "       [ 1.99537728],\n",
       "       [ 0.490784  ],\n",
       "       [ 0.92066779],\n",
       "       [ 1.45802253],\n",
       "       [ 0.38331305],\n",
       "       [ 0.2758421 ],\n",
       "       [ 0.59825495],\n",
       "       [ 1.45802253],\n",
       "       [ 1.67296443],\n",
       "       [ 2.21031917],\n",
       "       [ 0.59825495],\n",
       "       [ 0.490784  ],\n",
       "       [ 0.2758421 ],\n",
       "       [ 1.99537728],\n",
       "       [ 0.490784  ],\n",
       "       [ 0.59825495],\n",
       "       [ 0.16837115],\n",
       "       [ 1.13560969],\n",
       "       [ 0.92066779],\n",
       "       [ 1.13560969],\n",
       "       [-0.04657074],\n",
       "       [ 1.02813874],\n",
       "       [ 0.92066779],\n",
       "       [ 0.92066779],\n",
       "       [ 0.490784  ],\n",
       "       [ 0.7057259 ],\n",
       "       [ 0.38331305],\n",
       "       [ 0.0609002 ]])"
      ]
     },
     "execution_count": 26,
     "metadata": {},
     "output_type": "execute_result"
    }
   ],
   "source": [
    "pca.transform(df)"
   ]
  },
  {
   "cell_type": "markdown",
   "metadata": {},
   "source": [
    "# PCA Diagnostic\n",
    "* Explained variation plot\n",
    "    * Identify marginal contribution of each PC\n",
    "* PC component plot\n",
    "    * Identify most important features in each PC"
   ]
  },
  {
   "cell_type": "code",
   "execution_count": 25,
   "metadata": {},
   "outputs": [
    {
     "name": "stdout",
     "output_type": "stream",
     "text": [
      "[0.79197633]\n",
      "[1.]\n"
     ]
    }
   ],
   "source": [
    "# Explained variance ratio\n",
    "# Quantifies the amount of variation that each principal component\n",
    "# The share of the total variation explained by each PC\n",
    "\n",
    "print(pca.explained_variance_)\n",
    "print(pca.explained_variance_ratio_)"
   ]
  },
  {
   "cell_type": "code",
   "execution_count": 7,
   "metadata": {},
   "outputs": [
    {
     "name": "stdout",
     "output_type": "stream",
     "text": [
      "[0.92461872 0.05306648]\n"
     ]
    },
    {
     "data": {
      "image/png": "[encoded data removed]",
      "text/plain": [
       "<Figure size 432x288 with 1 Axes>"
      ]
     },
     "metadata": {
      "needs_background": "light"
     },
     "output_type": "display_data"
    }
   ],
   "source": [
    "# Cumulative share of explained variation to identify\n",
    "# marginal contribution of each PC\n",
    "print(pca.explained_variance_ratio_)\n",
    "plt.plot(np.cumsum(pca.explained_variance_ratio_),\n",
    "         marker='o',\n",
    "         linestyle='--')\n",
    "plt.xlabel('number of components')\n",
    "plt.ylabel('cumulative explained variance');"
   ]
  },
  {
   "cell_type": "code",
   "execution_count": 8,
   "metadata": {},
   "outputs": [
    {
     "data": {
      "text/plain": [
       "Text(0.5, 0, 'number of components')"
      ]
     },
     "execution_count": 8,
     "metadata": {},
     "output_type": "execute_result"
    },
    {
     "data": {
      "image/png": "[encoded data removed]",
      "text/plain": [
       "<Figure size 432x288 with 1 Axes>"
      ]
     },
     "metadata": {
      "needs_background": "light"
     },
     "output_type": "display_data"
    }
   ],
   "source": [
    "# Plot the explained variance ratio for each PC\n",
    "x = [i for i in range(1, NUM_PC+1)]\n",
    "h = list(pca.explained_variance_ratio_)\n",
    "plt.bar(x=x, height=h, width=0.75)\n",
    "plt.xlabel('number of components')"
   ]
  },
  {
   "cell_type": "code",
   "execution_count": 9,
   "metadata": {},
   "outputs": [
    {
     "data": {
      "image/png": "[encoded data removed]",
      "text/plain": [
       "<Figure size 432x288 with 1 Axes>"
      ]
     },
     "metadata": {
      "needs_background": "light"
     },
     "output_type": "display_data"
    }
   ],
   "source": [
    "if NUM_PC == 2:\n",
    "    d = pca.transform(df)\n",
    "    sns.scatterplot(x=d[:, 0], y=d[:, 1])\n",
    "    plt.xlabel('pc1')\n",
    "    plt.ylabel('pc2');"
   ]
  },
  {
   "cell_type": "code",
   "execution_count": 15,
   "metadata": {},
   "outputs": [
    {
     "data": {
      "text/plain": [
       "array([[1.00000000e+00, 8.04120959e-16],\n",
       "       [8.04120959e-16, 1.00000000e+00]])"
      ]
     },
     "execution_count": 15,
     "metadata": {},
     "output_type": "execute_result"
    }
   ],
   "source": [
    "np.corrcoef(d[:, 0], d[:, 1])"
   ]
  },
  {
   "cell_type": "code",
   "execution_count": 11,
   "metadata": {},
   "outputs": [
    {
     "name": "stdout",
     "output_type": "stream",
     "text": [
      "Pca: 0\n"
     ]
    },
    {
     "data": {
      "text/html": [
       "<div>\n",
       "<style scoped>\n",
       "    .dataframe tbody tr th:only-of-type {\n",
       "        vertical-align: middle;\n",
       "    }\n",
       "\n",
       "    .dataframe tbody tr th {\n",
       "        vertical-align: top;\n",
       "    }\n",
       "\n",
       "    .dataframe thead th {\n",
       "        text-align: right;\n",
       "    }\n",
       "</style>\n",
       "<table border=\"1\" class=\"dataframe\">\n",
       "  <thead>\n",
       "    <tr style=\"text-align: right;\">\n",
       "      <th></th>\n",
       "      <th>0</th>\n",
       "      <th>1</th>\n",
       "    </tr>\n",
       "  </thead>\n",
       "  <tbody>\n",
       "    <tr>\n",
       "      <th>0</th>\n",
       "      <td>petal length (cm)</td>\n",
       "      <td>0.856671</td>\n",
       "    </tr>\n",
       "    <tr>\n",
       "      <th>1</th>\n",
       "      <td>sepal length (cm)</td>\n",
       "      <td>0.361387</td>\n",
       "    </tr>\n",
       "    <tr>\n",
       "      <th>2</th>\n",
       "      <td>petal width (cm)</td>\n",
       "      <td>0.358289</td>\n",
       "    </tr>\n",
       "  </tbody>\n",
       "</table>\n",
       "</div>"
      ],
      "text/plain": [
       "                   0         1\n",
       "0  petal length (cm)  0.856671\n",
       "1  sepal length (cm)  0.361387\n",
       "2   petal width (cm)  0.358289"
      ]
     },
     "metadata": {},
     "output_type": "display_data"
    },
    {
     "name": "stdout",
     "output_type": "stream",
     "text": [
      "Pca: 1\n"
     ]
    },
    {
     "data": {
      "text/html": [
       "<div>\n",
       "<style scoped>\n",
       "    .dataframe tbody tr th:only-of-type {\n",
       "        vertical-align: middle;\n",
       "    }\n",
       "\n",
       "    .dataframe tbody tr th {\n",
       "        vertical-align: top;\n",
       "    }\n",
       "\n",
       "    .dataframe thead th {\n",
       "        text-align: right;\n",
       "    }\n",
       "</style>\n",
       "<table border=\"1\" class=\"dataframe\">\n",
       "  <thead>\n",
       "    <tr style=\"text-align: right;\">\n",
       "      <th></th>\n",
       "      <th>0</th>\n",
       "      <th>1</th>\n",
       "    </tr>\n",
       "  </thead>\n",
       "  <tbody>\n",
       "    <tr>\n",
       "      <th>0</th>\n",
       "      <td>sepal width (cm)</td>\n",
       "      <td>0.730161</td>\n",
       "    </tr>\n",
       "    <tr>\n",
       "      <th>1</th>\n",
       "      <td>sepal length (cm)</td>\n",
       "      <td>0.656589</td>\n",
       "    </tr>\n",
       "    <tr>\n",
       "      <th>2</th>\n",
       "      <td>petal length (cm)</td>\n",
       "      <td>-0.173373</td>\n",
       "    </tr>\n",
       "  </tbody>\n",
       "</table>\n",
       "</div>"
      ],
      "text/plain": [
       "                   0         1\n",
       "0   sepal width (cm)  0.730161\n",
       "1  sepal length (cm)  0.656589\n",
       "2  petal length (cm) -0.173373"
      ]
     },
     "metadata": {},
     "output_type": "display_data"
    }
   ],
   "source": [
    "def top_feats(feats, pca, m=3):\n",
    "    '''Print out the top m features for each principal component'''\n",
    "    assert m <= len(feats)\n",
    "\n",
    "    for i, pc in enumerate(pca.components_):\n",
    "        zz = list(zip(feats, pc))\n",
    "        zzs = sorted(zz, key=lambda tup: abs(tup[1]), reverse=True)\n",
    "        print(f\"Pca: {i}\")\n",
    "        display(pd.DataFrame(zzs[0:m]))\n",
    "        \n",
    "top_feats(df.columns, pca, m=3)"
   ]
  },
  {
   "cell_type": "markdown",
   "metadata": {},
   "source": [
    "# Simple Pipeline implementing PCA from end-to-end"
   ]
  },
  {
   "cell_type": "code",
   "execution_count": null,
   "metadata": {},
   "outputs": [],
   "source": []
  }
 ],
 "metadata": {
  "kernelspec": {
   "display_name": "Python 3",
   "language": "python",
   "name": "python3"
  },
  "language_info": {
   "codemirror_mode": {
    "name": "ipython",
    "version": 3
   },
   "file_extension": ".py",
   "mimetype": "text/x-python",
   "name": "python",
   "nbconvert_exporter": "python",
   "pygments_lexer": "ipython3",
   "version": "3.7.4"
  }
 },
 "nbformat": 4,
 "nbformat_minor": 2
}
